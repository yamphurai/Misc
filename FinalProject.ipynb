{
 "cells": [
  {
   "cell_type": "code",
   "execution_count": null,
   "id": "da8eceb2-a3b6-4489-96a2-dd69b2a97444",
   "metadata": {
    "tags": []
   },
   "outputs": [],
   "source": [
    "!pip install pyshark"
   ]
  },
  {
   "cell_type": "code",
   "execution_count": 35,
   "id": "d0f811ab-d4a9-46ab-a855-bbca92f3eb0b",
   "metadata": {
    "tags": []
   },
   "outputs": [],
   "source": [
    "import pyshark\n",
    "import csv\n",
    "import pandas as pd\n",
    "import matplotlib.pyplot as plt\n",
    "import seaborn as sns\n",
    "from sklearn.preprocessing import LabelEncoder\n",
    "import ipaddress"
   ]
  },
  {
   "cell_type": "code",
   "execution_count": 2,
   "id": "61ad2e74-36e4-4c8f-a214-088aba5440d9",
   "metadata": {
    "tags": []
   },
   "outputs": [],
   "source": [
    "# Read the data\n",
    "data = pd.read_csv(\"network_traffic_data.csv\")"
   ]
  },
  {
   "cell_type": "code",
   "execution_count": 3,
   "id": "08fc805e-9b8b-4075-9b2d-3f94be47dda8",
   "metadata": {
    "tags": []
   },
   "outputs": [
    {
     "data": {
      "text/html": [
       "<div>\n",
       "<style scoped>\n",
       "    .dataframe tbody tr th:only-of-type {\n",
       "        vertical-align: middle;\n",
       "    }\n",
       "\n",
       "    .dataframe tbody tr th {\n",
       "        vertical-align: top;\n",
       "    }\n",
       "\n",
       "    .dataframe thead th {\n",
       "        text-align: right;\n",
       "    }\n",
       "</style>\n",
       "<table border=\"1\" class=\"dataframe\">\n",
       "  <thead>\n",
       "    <tr style=\"text-align: right;\">\n",
       "      <th></th>\n",
       "      <th>No.</th>\n",
       "      <th>Time</th>\n",
       "      <th>Source</th>\n",
       "      <th>Destination</th>\n",
       "      <th>Protocol</th>\n",
       "      <th>Length</th>\n",
       "      <th>Info</th>\n",
       "    </tr>\n",
       "  </thead>\n",
       "  <tbody>\n",
       "    <tr>\n",
       "      <th>0</th>\n",
       "      <td>1</td>\n",
       "      <td>0.000000</td>\n",
       "      <td>192.168.1.6</td>\n",
       "      <td>224.0.0.251</td>\n",
       "      <td>MDNS</td>\n",
       "      <td>100</td>\n",
       "      <td>Standard query 0x0000 PTR _rdlink._tcp.local, ...</td>\n",
       "    </tr>\n",
       "    <tr>\n",
       "      <th>1</th>\n",
       "      <td>2</td>\n",
       "      <td>0.000000</td>\n",
       "      <td>fe80::18be:4bb4:1de5:77e3</td>\n",
       "      <td>ff02::fb</td>\n",
       "      <td>MDNS</td>\n",
       "      <td>120</td>\n",
       "      <td>Standard query 0x0000 PTR _rdlink._tcp.local, ...</td>\n",
       "    </tr>\n",
       "    <tr>\n",
       "      <th>2</th>\n",
       "      <td>3</td>\n",
       "      <td>3.843205</td>\n",
       "      <td>192.168.1.146</td>\n",
       "      <td>192.168.1.19</td>\n",
       "      <td>TCP</td>\n",
       "      <td>164</td>\n",
       "      <td>62822  &gt;  8009 [PSH, ACK] Seq=1 Ack=1 Win=1025...</td>\n",
       "    </tr>\n",
       "    <tr>\n",
       "      <th>3</th>\n",
       "      <td>4</td>\n",
       "      <td>3.849903</td>\n",
       "      <td>192.168.1.19</td>\n",
       "      <td>192.168.1.146</td>\n",
       "      <td>TCP</td>\n",
       "      <td>164</td>\n",
       "      <td>8009  &gt;  62822 [PSH, ACK] Seq=1 Ack=111 Win=45...</td>\n",
       "    </tr>\n",
       "    <tr>\n",
       "      <th>4</th>\n",
       "      <td>5</td>\n",
       "      <td>3.889950</td>\n",
       "      <td>192.168.1.146</td>\n",
       "      <td>192.168.1.19</td>\n",
       "      <td>TCP</td>\n",
       "      <td>54</td>\n",
       "      <td>62822  &gt;  8009 [ACK] Seq=111 Ack=111 Win=1025 ...</td>\n",
       "    </tr>\n",
       "  </tbody>\n",
       "</table>\n",
       "</div>"
      ],
      "text/plain": [
       "   No.      Time                     Source    Destination Protocol  Length  \\\n",
       "0    1  0.000000                192.168.1.6    224.0.0.251     MDNS     100   \n",
       "1    2  0.000000  fe80::18be:4bb4:1de5:77e3       ff02::fb     MDNS     120   \n",
       "2    3  3.843205              192.168.1.146   192.168.1.19      TCP     164   \n",
       "3    4  3.849903               192.168.1.19  192.168.1.146      TCP     164   \n",
       "4    5  3.889950              192.168.1.146   192.168.1.19      TCP      54   \n",
       "\n",
       "                                                Info  \n",
       "0  Standard query 0x0000 PTR _rdlink._tcp.local, ...  \n",
       "1  Standard query 0x0000 PTR _rdlink._tcp.local, ...  \n",
       "2  62822  >  8009 [PSH, ACK] Seq=1 Ack=1 Win=1025...  \n",
       "3  8009  >  62822 [PSH, ACK] Seq=1 Ack=111 Win=45...  \n",
       "4  62822  >  8009 [ACK] Seq=111 Ack=111 Win=1025 ...  "
      ]
     },
     "execution_count": 3,
     "metadata": {},
     "output_type": "execute_result"
    }
   ],
   "source": [
    "data.head()"
   ]
  },
  {
   "cell_type": "code",
   "execution_count": 4,
   "id": "6035ae71-2366-43ee-9fce-d1f2dda18463",
   "metadata": {
    "tags": []
   },
   "outputs": [
    {
     "data": {
      "text/plain": [
       "array(['MDNS', 'TCP', 'QUIC', 'TLSv1.2', 'ICMPv6', 'NTP', 'TLSv1.3',\n",
       "       'DNS', 'AJP13', 'SSDP', 'UDP', 'ICMP', 'SSLv2'], dtype=object)"
      ]
     },
     "execution_count": 4,
     "metadata": {},
     "output_type": "execute_result"
    }
   ],
   "source": [
    "# all the types of protocol\n",
    "data[\"Protocol\"].unique()"
   ]
  },
  {
   "cell_type": "code",
   "execution_count": 12,
   "id": "79412840-0e7f-4def-aea4-874101b0d7cf",
   "metadata": {
    "tags": []
   },
   "outputs": [
    {
     "data": {
      "text/plain": [
       "0"
      ]
     },
     "execution_count": 12,
     "metadata": {},
     "output_type": "execute_result"
    }
   ],
   "source": [
    "# check if emtpy data sample\n",
    "data[\"Protocol\"].isna().sum()"
   ]
  },
  {
   "cell_type": "markdown",
   "id": "32bc8499-f2bd-4933-a1c2-b05cb6313353",
   "metadata": {},
   "source": [
    "- MDNS (Multicast DNS): application layer protocol, Local network name resolution without needing a central DNS server\n",
    "- TCP (Transmission Control Protocol): network & transport protocol, connection-oriented transport protocol\n",
    "- QUIC (Quick UDP Internet Connections): develop by Google, runs on UDP but offers similar reliability and speed as TCP, used mainly by modern web applications lik google search, youtube, etc.\n",
    "- TLS (Transport Layer Security): security & encryption protocol, used in HTTPS & emails\n",
    "- ICMPv6 (ICMP for IPv6): network & transport protocol, ICMP equivalent for IPv6 networks, supports neighbor discovery/error messaging/more advanced IPv6 functions\n",
    "- NTP (Network Time Protocol): network & transport protocol, synchronizes clocks of networked devices, essential for log consistency and scheduling\n",
    "- DNS (Domain Name System): appliation layer protocol, resolves human-readable domain names (e.g., www.google.com) into IP addresses.\n",
    "- AJP13 (Apache JServ Protocol version 1.3): application layer protocol, used by web servers to communicate with application servers, used in enterprise web applications\n",
    "- SSDP (Simple Service Discovery Protocol): used in UPnP (Universal Plug and Play) for discovering devices on a local network (e.g., smart TVs, printers)\n",
    "- UDP (User Datagram Protocol): network & transport protocol, connectionless transport protocol, used in streaming/DNS etc.\n",
    "- ICMP (Internet Control Message Protocol): Used for sending error messages and operational information (e.g., ping, traceroute), does not carry data, only diagnostics.\n",
    "- SSLv2 (Secure Sockets Layer v2): security & encryption protocol, replaced by newer versions like TLS\n",
    "    "
   ]
  },
  {
   "cell_type": "markdown",
   "id": "15fa8db2-68c4-4b45-ab30-155d50baccf0",
   "metadata": {},
   "source": [
    "Since we are only interested on certain network traffic protocols used for browsing, streaming, etc., we will categorize these protocols."
   ]
  },
  {
   "cell_type": "code",
   "execution_count": 13,
   "id": "dcefd34e-8efb-4a08-b162-b7375c7af583",
   "metadata": {
    "tags": []
   },
   "outputs": [],
   "source": [
    "# Network traffic categorization\n",
    "protocols_map = {\n",
    "    'TCP': 'Web Traffic',\n",
    "    'TLSv1.2': 'Web Traffic',\n",
    "    'TLSv1.3': 'Web Traffic',\n",
    "    'SSLv2': 'Web Traffic',\n",
    "    'QUIC': 'Streaming',\n",
    "    'AJP13': 'Web Traffic',\n",
    "    'UDP': 'Streaming',\n",
    "    'DNS': 'DNS Traffic',\n",
    "    'MDNS': 'DNS Traffic',\n",
    "    'ICMP': 'Network Diagnostics',\n",
    "    'ICMPv6': 'Network Diagnostics',\n",
    "    'NTP': 'Network Diagnostics',\n",
    "    'SSDP': 'Network Diagnostics'\n",
    "}\n",
    "\n",
    "# overview of the mapping\n",
    "if 'Protocol' in data.columns:\n",
    "    data['protocol_cat'] = data['Protocol'].map(protocols_map)"
   ]
  },
  {
   "cell_type": "markdown",
   "id": "a493a955-1f7f-484d-87e3-3dfffcf466b6",
   "metadata": {},
   "source": [
    "Now let's look at the distribution of the traffic data protocols."
   ]
  },
  {
   "cell_type": "code",
   "execution_count": 23,
   "id": "70acf45e-995b-4815-a7a9-c6e6dd7d2eeb",
   "metadata": {
    "tags": []
   },
   "outputs": [
    {
     "data": {
      "image/png": "[encoded data removed]",
      "text/plain": [
       "<Figure size 500x600 with 1 Axes>"
      ]
     },
     "metadata": {},
     "output_type": "display_data"
    }
   ],
   "source": [
    "# Visualization of the distribution\n",
    "plt.figure(figsize=(5, 6))\n",
    "protocols_count = data['protocol_cat'].value_counts()\n",
    "ax = sns.barplot(x=protocols_count.index, y=protocols_count.values, palette=\"Set2\")\n",
    "\n",
    "# Add counts on top of each bar\n",
    "for i, v in enumerate(protocols_count.values):\n",
    "    ax.text(i, v + max(protocols_count.values) * 0.01, str(v), ha='center', va='bottom', fontweight='bold')\n",
    "    \n",
    "plt.title(\"Distribution of thee protocols\")\n",
    "plt.xlabel(\"Protocols category\")\n",
    "plt.ylabel(\"Packets count\")\n",
    "plt.xticks(rotation=90)\n",
    "plt.show()"
   ]
  },
  {
   "cell_type": "code",
   "execution_count": 24,
   "id": "aef16677-a0da-43c0-9995-8bec390cb9e3",
   "metadata": {
    "tags": []
   },
   "outputs": [],
   "source": [
    "# Drop irrelevant columns\n",
    "data.drop(columns=[\"Info\", \"No.\"], inplace=True)"
   ]
  },
  {
   "cell_type": "code",
   "execution_count": 33,
   "id": "d25816c3-0674-4e2c-812f-c1ef1d513c1c",
   "metadata": {
    "tags": []
   },
   "outputs": [
    {
     "data": {
      "text/html": [
       "<div>\n",
       "<style scoped>\n",
       "    .dataframe tbody tr th:only-of-type {\n",
       "        vertical-align: middle;\n",
       "    }\n",
       "\n",
       "    .dataframe tbody tr th {\n",
       "        vertical-align: top;\n",
       "    }\n",
       "\n",
       "    .dataframe thead th {\n",
       "        text-align: right;\n",
       "    }\n",
       "</style>\n",
       "<table border=\"1\" class=\"dataframe\">\n",
       "  <thead>\n",
       "    <tr style=\"text-align: right;\">\n",
       "      <th></th>\n",
       "      <th>Time</th>\n",
       "      <th>Source</th>\n",
       "      <th>Destination</th>\n",
       "      <th>Protocol</th>\n",
       "      <th>Length</th>\n",
       "      <th>protocol_cat</th>\n",
       "    </tr>\n",
       "  </thead>\n",
       "  <tbody>\n",
       "    <tr>\n",
       "      <th>0</th>\n",
       "      <td>0.000000</td>\n",
       "      <td>192.168.1.6</td>\n",
       "      <td>224.0.0.251</td>\n",
       "      <td>MDNS</td>\n",
       "      <td>100</td>\n",
       "      <td>DNS Traffic</td>\n",
       "    </tr>\n",
       "    <tr>\n",
       "      <th>1</th>\n",
       "      <td>0.000000</td>\n",
       "      <td>fe80::18be:4bb4:1de5:77e3</td>\n",
       "      <td>ff02::fb</td>\n",
       "      <td>MDNS</td>\n",
       "      <td>120</td>\n",
       "      <td>DNS Traffic</td>\n",
       "    </tr>\n",
       "    <tr>\n",
       "      <th>2</th>\n",
       "      <td>3.843205</td>\n",
       "      <td>192.168.1.146</td>\n",
       "      <td>192.168.1.19</td>\n",
       "      <td>TCP</td>\n",
       "      <td>164</td>\n",
       "      <td>Web Traffic</td>\n",
       "    </tr>\n",
       "    <tr>\n",
       "      <th>3</th>\n",
       "      <td>3.849903</td>\n",
       "      <td>192.168.1.19</td>\n",
       "      <td>192.168.1.146</td>\n",
       "      <td>TCP</td>\n",
       "      <td>164</td>\n",
       "      <td>Web Traffic</td>\n",
       "    </tr>\n",
       "    <tr>\n",
       "      <th>4</th>\n",
       "      <td>3.889950</td>\n",
       "      <td>192.168.1.146</td>\n",
       "      <td>192.168.1.19</td>\n",
       "      <td>TCP</td>\n",
       "      <td>54</td>\n",
       "      <td>Web Traffic</td>\n",
       "    </tr>\n",
       "  </tbody>\n",
       "</table>\n",
       "</div>"
      ],
      "text/plain": [
       "       Time                     Source    Destination Protocol  Length  \\\n",
       "0  0.000000                192.168.1.6    224.0.0.251     MDNS     100   \n",
       "1  0.000000  fe80::18be:4bb4:1de5:77e3       ff02::fb     MDNS     120   \n",
       "2  3.843205              192.168.1.146   192.168.1.19      TCP     164   \n",
       "3  3.849903               192.168.1.19  192.168.1.146      TCP     164   \n",
       "4  3.889950              192.168.1.146   192.168.1.19      TCP      54   \n",
       "\n",
       "  protocol_cat  \n",
       "0  DNS Traffic  \n",
       "1  DNS Traffic  \n",
       "2  Web Traffic  \n",
       "3  Web Traffic  \n",
       "4  Web Traffic  "
      ]
     },
     "execution_count": 33,
     "metadata": {},
     "output_type": "execute_result"
    }
   ],
   "source": [
    "data.head()"
   ]
  },
  {
   "cell_type": "markdown",
   "id": "a51c9476-f627-4e8f-9eeb-f9b032a030a5",
   "metadata": {},
   "source": [
    "Since there are many sources in the traffic data, we will categorize them in some meaningful categories."
   ]
  },
  {
   "cell_type": "code",
   "execution_count": 34,
   "id": "8ae5a771-dda9-40ba-ad9d-27e016fdcc68",
   "metadata": {
    "tags": []
   },
   "outputs": [],
   "source": [
    "def categorize_source(ip):\n",
    "    try:\n",
    "        ip_obj = ipaddress.ip_address(ip)\n",
    "\n",
    "        # Internal IP ranges\n",
    "        if (\n",
    "            ip_obj.is_private or\n",
    "            ip_obj.is_link_local  # covers fe80::/10\n",
    "        ):\n",
    "            return 'Internal'\n",
    "\n",
    "        # Google\n",
    "        elif (\n",
    "            ip.startswith('142.250.') or\n",
    "            ip.startswith('2607:f8b0')\n",
    "        ):\n",
    "            return 'Google'\n",
    "\n",
    "        # Microsoft\n",
    "        elif (\n",
    "            ip.startswith(('104.', '13.', '20.', '207.', '2603:', '2620:', '40.', '52.'))\n",
    "        ):\n",
    "            return 'Microsoft'\n",
    "\n",
    "        # Amazon\n",
    "        elif (\n",
    "            ip.startswith(('3.', '18.', '34.', '44.', '54.', '108.')) or\n",
    "            ip.startswith('2600:1f')\n",
    "        ):\n",
    "            return 'Amazon'\n",
    "\n",
    "        # Cloudflare\n",
    "        elif (\n",
    "            ip.startswith('162.159') or\n",
    "            ip.startswith('2606:4700')\n",
    "        ):\n",
    "            return 'Cloudflare'\n",
    "\n",
    "        else:\n",
    "            return 'Others'\n",
    "    except ValueError:\n",
    "        return 'Invalid IP'"
   ]
  },
  {
   "cell_type": "code",
   "execution_count": 36,
   "id": "4c6ad9ee-9f57-45f3-bd2c-226416a1a6a4",
   "metadata": {
    "tags": []
   },
   "outputs": [],
   "source": [
    "# Apply the categorization\n",
    "data['Source_Category'] = data['Source'].apply(categorize_source)"
   ]
  },
  {
   "cell_type": "code",
   "execution_count": 37,
   "id": "d61a75c3-c241-4950-9bbd-b5a6a7b96199",
   "metadata": {
    "tags": []
   },
   "outputs": [
    {
     "data": {
      "text/plain": [
       "array(['Internal', 'Microsoft', 'Others', 'Cloudflare', 'Amazon',\n",
       "       'Google'], dtype=object)"
      ]
     },
     "execution_count": 37,
     "metadata": {},
     "output_type": "execute_result"
    }
   ],
   "source": [
    "data['Source_Category'].unique()"
   ]
  },
  {
   "cell_type": "code",
   "execution_count": 39,
   "id": "af406b5f-b93b-404d-88e1-7e8abb6cb279",
   "metadata": {
    "tags": []
   },
   "outputs": [
    {
     "data": {
      "text/plain": [
       "0"
      ]
     },
     "execution_count": 39,
     "metadata": {},
     "output_type": "execute_result"
    }
   ],
   "source": [
    "data['Source_Category'].isna().sum()"
   ]
  },
  {
   "cell_type": "code",
   "execution_count": null,
   "id": "cf47ecfc-59fd-40e8-aba9-5c449196a4f9",
   "metadata": {},
   "outputs": [],
   "source": [
    "# Function to categorize sources\n",
    "def categorize_source(ip):\n",
    "    \n",
    "    # Check for Internal (private IP ranges)\n",
    "    if ip.startswith('192.168.') or ip.startswith('172.168.') or ip.startswith('fe80'):\n",
    "        return 'Internal'\n",
    "    \n",
    "    # Check for Google\n",
    "    elif ip.startswith('142.250.') or ip.startswith('2607:f8b0'):\n",
    "        return 'Google'\n",
    "    \n",
    "    # Check for Microsoft\n",
    "    elif ip.startswith('104.') or ip.startswith('13.') or ip.startswith('20.') or ip.startswith('207.') or ip.startswith('2603.') or ip.startswith('2620.') or ip.startswith('40.') or ip.startswith('52.'):\n",
    "        return 'Microsoft'\n",
    "    \n",
    "    # Check for Amazon\n",
    "    elif ip.startswith('18.') or ip.startswith('3.') or ip.startswith('34.') or ip.startswith('44.') or ip.startswith('54.'):\n",
    "        return 'Amazon'\n",
    "    \n",
    "    # Check for Cloudflare\n",
    "    elif ip.startswith('162.59') or ip.startswith('2606:4700'):\n",
    "        return 'Cloudflare'.\n",
    "    \n",
    "    # Else category\n",
    "    else:\n",
    "        return 'Others'"
   ]
  },
  {
   "cell_type": "code",
   "execution_count": 28,
   "id": "46122045-b21a-45d3-9c7b-ae86a1ca37af",
   "metadata": {
    "tags": []
   },
   "outputs": [],
   "source": [
    "# Initialize LabelEncoder\n",
    "label_encoder = LabelEncoder()\n",
    "\n",
    "# Fit and transform the 'Source' column to get the encoded labels\n",
    "data['source_encoded'] = label_encoder.fit_transform(data['Source']) + 1  # Starting from 1"
   ]
  },
  {
   "cell_type": "code",
   "execution_count": null,
   "id": "cf1e2c36-bf11-46f2-94de-a81ed95edce1",
   "metadata": {},
   "outputs": [],
   "source": []
  }
 ],
 "metadata": {
  "kernelspec": {
   "display_name": "Python 3 (ipykernel)",
   "language": "python",
   "name": "python3"
  },
  "language_info": {
   "codemirror_mode": {
    "name": "ipython",
    "version": 3
   },
   "file_extension": ".py",
   "mimetype": "text/x-python",
   "name": "python",
   "nbconvert_exporter": "python",
   "pygments_lexer": "ipython3",
   "version": "3.11.5"
  }
 },
 "nbformat": 4,
 "nbformat_minor": 5
}
